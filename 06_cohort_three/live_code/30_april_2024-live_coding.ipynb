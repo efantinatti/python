{
 "cells": [
  {
   "cell_type": "markdown",
   "metadata": {},
   "source": [
    "# Jupyter Notebooks\n",
    "Jupyter Notebooks are web applications that lets us combine pieces of executable code, text, images, and visualizations in a single document, or notebook. We have installed a Jupyter Extension that lets us run notebooks directly in Visual Studio Code (VS Code)."
   ]
  },
  {
   "cell_type": "markdown",
   "metadata": {},
   "source": [
    "Sections of a notebook are called cells. Cells can be run independently of each other, and in any order."
   ]
  },
  {
   "cell_type": "markdown",
   "metadata": {},
   "source": [
    "print(\"HelloW\")"
   ]
  },
  {
   "cell_type": "code",
   "execution_count": 1,
   "metadata": {},
   "outputs": [
    {
     "name": "stdout",
     "output_type": "stream",
     "text": [
      "HelloW\n"
     ]
    }
   ],
   "source": [
    "print(\"HelloW\")"
   ]
  },
  {
   "cell_type": "markdown",
   "metadata": {},
   "source": [
    "## Adding text\n",
    "\n",
    "Notebooks use markdown, a markup language, for formatting text. IBM publishes a [Jupyter-specific markdown cheat sheet](https://www.ibm.com/docs/en/watson-studio-local/1.2.3?topic=notebooks-markdown-jupyter-cheatsheet).\n",
    "\n",
    "To add a text cell:\n",
    "1. Click **+ Markdown**\n",
    "2. Add some text. When you are done editing, press `ctrl` + `enter` to run the cell and format your text."
   ]
  },
  {
   "cell_type": "markdown",
   "metadata": {},
   "source": [
    "To use VS Code with the Jupyter extension for writing and running code, follow these modified steps:\n",
    "\n",
    "## Writing and Running Code in VS Code with Jupyter Extension\n",
    "\n",
    "1. **Writing Code Cells:**\n",
    "   - Use code cells to write your Python code. To create a new code cell, click on the `+ Code` button in the Jupyter toolbar.\n",
    "   - Type or paste your Python code within the code cell.\n",
    "\n",
    "2. **Running Code Cells:**\n",
    "   - To execute a code cell, you can:\n",
    "     - Click the `Run Cell` button (a triangle icon) in the Jupyter toolbar.\n",
    "     - Use the keyboard shortcut `Shift + Enter`.\n",
    "   - Output, if any, will be displayed below the cell after execution.\n",
    "\n",
    "3. **Keyboard Shortcuts:**\n",
    "   - Utilize keyboard shortcuts for faster execution:\n",
    "     - `Shift + Enter`: Run the current cell and move to the next cell.\n",
    "     - `Ctrl + Enter`: Run the current cell and stay on the same cell.\n",
    "     - `Alt + Enter`: Run the current cell and insert a new cell below.\n",
    "\n",
    "4. **Code Assistance and Auto-completion:**\n",
    "   - The Jupyter extension in VS Code offers code assistance and auto-completion. Press `Tab` for suggestions while writing code.\n",
    "\n",
    "5. **Saving and Renaming:**\n",
    "   - Save your Jupyter notebook by clicking on `File` > `Save` or `File` > `Save As...`.\n",
    "   - To rename the notebook, right-click on the notebook file in the file explorer on the left and select `Rename`.\n",
    "\n",
    "6. **Managing Cells:**\n",
    "   - Use the `+ Code` or `+ Markdown` buttons in the Jupyter toolbar to add new code or text cells, respectively.\n",
    "   - You can rearrange the order of cells by clicking and dragging them in the Jupyter notebook.\n",
    "   - Right-click on a cell in the Jupyter notebook to access options like deleting or moving the cell."
   ]
  },
  {
   "cell_type": "markdown",
   "metadata": {},
   "source": [
    "No problem! If you won't be using Google Colab or Drive, and you want to work exclusively in Visual Studio Code, here are modified instructions:\n",
    "\n",
    "## Instructions for Accessing and Using the `data` Folder in Visual Studio Code\n",
    "\n",
    "1. **Access GitHub Repository:**\n",
    "   - Go to your GitHub repository where the `data` folder is located: [https://github.com/UofT-DSI/python](https://github.com/UofT-DSI/python)\n",
    "   - Clone the repository to your local machine using the following command in your terminal or command prompt:\n",
    "     ```\n",
    "     git clone https://github.com/UofT-DSI/python.git\n",
    "     ```\n",
    "   - Navigate to the cloned repository on your local machine.\n",
    "\n",
    "2. **Access and Use the `data` Folder in Visual Studio Code:**\n",
    "   - Open Visual Studio Code.\n",
    "   - Open the folder corresponding to the cloned GitHub repository using the \"File\" > \"Open Folder...\" menu option.\n",
    "   - You should now see the `data` folder in your Visual Studio Code workspace.\n",
    "\n",
    "3. **Working with the `data` Folder:**\n",
    "   - You can access and use the contents of the `data` folder directly in your Python scripts or Jupyter notebooks within Visual Studio Code. For example, you can read data from files in the `data` folder using Python's file handling functions or libraries like Pandas."
   ]
  },
  {
   "cell_type": "markdown",
   "metadata": {},
   "source": [
    "### What is Python?\n",
    "\n",
    "Python is a general-purpose programming language first released in 1991. It has since become a popular language for data science, thanks to an enthusiastic community and a large ecosystem of code libraries and tools that make it easier to perform common tasks throughout the data science life cycle."
   ]
  }
 ],
 "metadata": {
  "kernelspec": {
   "display_name": "dsi_participant",
   "language": "python",
   "name": "python3"
  },
  "language_info": {
   "codemirror_mode": {
    "name": "ipython",
    "version": 3
   },
   "file_extension": ".py",
   "mimetype": "text/x-python",
   "name": "python",
   "nbconvert_exporter": "python",
   "pygments_lexer": "ipython3",
   "version": "3.9.19"
  }
 },
 "nbformat": 4,
 "nbformat_minor": 2
}
